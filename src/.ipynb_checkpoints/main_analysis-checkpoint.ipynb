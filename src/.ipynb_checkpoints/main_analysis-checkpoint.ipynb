{
 "cells": [
  {
   "cell_type": "code",
   "execution_count": 1,
   "metadata": {},
   "outputs": [],
   "source": [
    "# Loading Dependencies\n",
    "\n",
    "import pandas as pd\n",
    "import numpy as np\n",
    "\n",
    "import matplotlib.pyplot as plt\n",
    "\n",
    "# SciKit Learn\n",
    "from sklearn.model_selection import train_test_split, GridSearchCV\n",
    "from sklearn.manifold import MDS, Isomap, TSNE\n",
    "from sklearn.linear_model import Ridge, Lasso, ElasticNet, LogisticRegression, LogisticRegressionCV\n",
    "from sklearn.metrics import accuracy_score\n",
    "from sklearn.preprocessing import MinMaxScaler\n",
    "from sklearn.feature_selection import RFE\n",
    "from sklearn.ensemble import RandomForestClassifier\n",
    "from sklearn.neighbors import KNeighborsClassifier\n",
    "from sklearn.svm import SVC\n",
    "\n",
    "# Viz\n",
    "import seaborn as sns\n",
    "%matplotlib inline"
   ]
  },
  {
   "cell_type": "markdown",
   "metadata": {},
   "source": [
    "# Introduction  "
   ]
  },
  {
   "cell_type": "markdown",
   "metadata": {},
   "source": [
    "# Reading in Data"
   ]
  },
  {
   "cell_type": "code",
   "execution_count": 2,
   "metadata": {},
   "outputs": [],
   "source": [
    "# From http://archive.ics.uci.edu/ml/datasets/Heart+Disease\n",
    "# http://archive.ics.uci.edu/ml/machine-learning-databases/heart-disease/heart-disease.names\n",
    "\n",
    "\n",
    "# Using the American data sets within these - the data from Cleveland and from Long Beach \n",
    "heart_df_cl = pd.read_csv(\"../data/processed.cleveland.data.txt\", header = None)\n",
    "#heart_df_lb = pd.read_csv(\"../data/processed.va.data.txt\", header = None)\n",
    "#heart_df_h = pd.read_csv(\"../data/processed.hungarian.data.txt\", header = None)\n",
    "#heart_df_sw = pd.read_csv(\"../data/processed.switzerland.data.txt\", header = None)\n",
    "\n",
    "#heart_df = heart_df_cl.append(heart_df_lb).append(heart_df_h).append(heart_df_sw)\n",
    "    \n",
    "heart_df = heart_df_cl\n",
    "# More interpretable names taken from dataset description above\n",
    "var_names = [\"age\", \"sex\", \"chest_pain\", \"rest_bp\", \"chol\", \"bld_gluc\",\\\n",
    "             \"ecg_st_e\",\"strs_max_hr\", \"ex_ang\", \"ecg_st_d_exer\", \"ecg_st_slope\",\\\n",
    "            \"cor_a\", \"strs_test\", \"diagnosis\"]\n",
    "\n",
    "heart_df.columns = var_names"
   ]
  },
  {
   "cell_type": "code",
   "execution_count": 3,
   "metadata": {},
   "outputs": [
    {
     "name": "stdout",
     "output_type": "stream",
     "text": [
      "Observations: 303\n",
      "Features: 14\n"
     ]
    }
   ],
   "source": [
    "# Pre-Wrangled Data\n",
    "print(\"Observations: {}\".format(heart_df.shape[0]))\n",
    "print(\"Features: {}\".format(heart_df.shape[1]))"
   ]
  },
  {
   "cell_type": "markdown",
   "metadata": {},
   "source": [
    "### Understanding the Predictors \n",
    "\n",
    "**Continuous Predictors**    \n",
    "`age`: Age  \n",
    "`rest_bp`: Resting Blood Pressure on Admission  \n",
    "`chol`: Serum Cholesterol Level (mg/dL)  \n",
    "`strs_max_hr`: Maximum Heart Rate achieved during Stress Testing  \n",
    "`ecg_st_d_exer`: ST depression induced by exercise relative to rest  \n",
    "\n",
    "**Categorical Predictors**    \n",
    "`sex`: Male or Female  \n",
    "`chest_pain`: Classified into 4 types of chest pain (where 1 is most highly correlated with cardiovascular) - therefore will need to be changed with dummy variables.   \n",
    "        -- Value 1: typical angina  \n",
    "        -- Value 2: atypical angina  \n",
    "        -- Value 3: non-anginal pain  \n",
    "        -- Value 4: asymptomatic  \n",
    "`bld_gluc`: Yes or No to whether the blood glucose is high (above 120mg/dL - i.e. 6.7 mmol/L)  \n",
    "`ecg_st_e`: ST Elevation on ECG at Rest. Value 1 means ST Elevation (highly indicative of coronary artery involvement), whereas value 2 is indicative of Left Ventricular Hypertrophy (which is less indicative but important). \n",
    "`ex_ang`: Yes or no to exercise-induced angina (chest pain caused from exercise)   \n",
    "`ecg_st_slope`: upsloping, downsloping, or flat ST segment during exercise  \n",
    "`cor_a`: Coronary artery vessels coloured by fluoroscopy (number of vessels from 0-3).   \n",
    "`strs_test`: Result of nuclear stress testing - only 3 levels. Where 6 means a fixed defect, 7 means a reversible defect, and 3 means normal.    \n",
    "\n",
    "\n",
    "Since some of these categorical predictors have more than 2 levels they will need to be altered as dummy variables. These include: `chest_pain`, `ecg_st_e`, `cor_a`, `strs_test`.  \n"
   ]
  },
  {
   "cell_type": "code",
   "execution_count": 4,
   "metadata": {},
   "outputs": [],
   "source": [
    "# Drop all observations with NAs\n",
    "heart_df = heart_df.replace(\"?\", np.nan)\n",
    "heart_df = heart_df.dropna()"
   ]
  },
  {
   "cell_type": "markdown",
   "metadata": {},
   "source": [
    "Note: by Dropping NAs, I am introducing bias. It is possible that patients in higher acuity (i.e. sicker) will have had less opportunity to get all the testing before angiography -- therefore those that have no NAs are actually less likely to have a positive prediction (which denotes >50% occlusion on angiography. I understand this flaw, but for the purposes of this analysis I will only be looking at modeling those who are low acuity enough to have complete data, and with this additional constraint, I can then drop the NAs and will treat them as being missing completely at random.  \n",
    "\n",
    "This is less an issue when I am just looking at the cleveland data, because it is much more complete. The data from Hungary, Switzerland and Long Beach have much more NAs with regards to Stress Testing (`strs_test`, `ect_st_slope` - and this may make sense, these are expensive tests that you can't do on people who are high acuity (if someone is actively having a heart attack it's a bad idea to inject them with nucleotides and get them to run on a treadmill. "
   ]
  },
  {
   "cell_type": "code",
   "execution_count": 5,
   "metadata": {},
   "outputs": [],
   "source": [
    "# Set Predictor (Diagnosis) to 0 or 1, where 1 means >50% artery narrowing on angiography\n",
    "heart_df.diagnosis = [1 if x > 0 else x for x in heart_df.diagnosis]\n",
    "\n",
    "# Dataframe for later reference in visualization\n",
    "heart_df_original = heart_df\n",
    "\n",
    "# Convert the `chest_pain` 4 level categorical variable into 4 binary features\n",
    "heart_df = pd.get_dummies(heart_df, columns = [\"chest_pain\"])\n",
    "\n",
    "# Convert the `ecg_st_e` 3 level categorical variable into 3 binary features\n",
    "heart_df = pd.get_dummies(heart_df, columns = [\"ecg_st_e\"])\n",
    "\n",
    "# Convert the `cor_a` 4 level categorical variable into 4 binary features\n",
    "heart_df = pd.get_dummies(heart_df, columns = [\"cor_a\"])\n",
    "\n",
    "# Convert the `ecg_st_slope` 3 level categorical variable into 3 binary features\n",
    "heart_df = pd.get_dummies(heart_df, columns = [\"ecg_st_slope\"])\n",
    "\n",
    "# Convert the `strs_test` 3 level categorical variable into 3 binary features\n",
    "heart_df = pd.get_dummies(heart_df, columns = [\"strs_test\"])\n"
   ]
  },
  {
   "cell_type": "code",
   "execution_count": 6,
   "metadata": {
    "scrolled": false
   },
   "outputs": [
    {
     "data": {
      "text/html": [
       "<div>\n",
       "<style>\n",
       "    .dataframe thead tr:only-child th {\n",
       "        text-align: right;\n",
       "    }\n",
       "\n",
       "    .dataframe thead th {\n",
       "        text-align: left;\n",
       "    }\n",
       "\n",
       "    .dataframe tbody tr th {\n",
       "        vertical-align: top;\n",
       "    }\n",
       "</style>\n",
       "<table border=\"1\" class=\"dataframe\">\n",
       "  <thead>\n",
       "    <tr style=\"text-align: right;\">\n",
       "      <th></th>\n",
       "      <th>age</th>\n",
       "      <th>sex</th>\n",
       "      <th>rest_bp</th>\n",
       "      <th>chol</th>\n",
       "      <th>bld_gluc</th>\n",
       "      <th>strs_max_hr</th>\n",
       "      <th>ex_ang</th>\n",
       "      <th>ecg_st_d_exer</th>\n",
       "      <th>diagnosis</th>\n",
       "      <th>chest_pain_1.0</th>\n",
       "      <th>...</th>\n",
       "      <th>cor_a_0.0</th>\n",
       "      <th>cor_a_1.0</th>\n",
       "      <th>cor_a_2.0</th>\n",
       "      <th>cor_a_3.0</th>\n",
       "      <th>ecg_st_slope_1.0</th>\n",
       "      <th>ecg_st_slope_2.0</th>\n",
       "      <th>ecg_st_slope_3.0</th>\n",
       "      <th>strs_test_3.0</th>\n",
       "      <th>strs_test_6.0</th>\n",
       "      <th>strs_test_7.0</th>\n",
       "    </tr>\n",
       "  </thead>\n",
       "  <tbody>\n",
       "    <tr>\n",
       "      <th>0</th>\n",
       "      <td>63.0</td>\n",
       "      <td>1.0</td>\n",
       "      <td>145.0</td>\n",
       "      <td>233.0</td>\n",
       "      <td>1.0</td>\n",
       "      <td>150.0</td>\n",
       "      <td>0.0</td>\n",
       "      <td>2.3</td>\n",
       "      <td>0</td>\n",
       "      <td>1</td>\n",
       "      <td>...</td>\n",
       "      <td>1</td>\n",
       "      <td>0</td>\n",
       "      <td>0</td>\n",
       "      <td>0</td>\n",
       "      <td>0</td>\n",
       "      <td>0</td>\n",
       "      <td>1</td>\n",
       "      <td>0</td>\n",
       "      <td>1</td>\n",
       "      <td>0</td>\n",
       "    </tr>\n",
       "    <tr>\n",
       "      <th>1</th>\n",
       "      <td>67.0</td>\n",
       "      <td>1.0</td>\n",
       "      <td>160.0</td>\n",
       "      <td>286.0</td>\n",
       "      <td>0.0</td>\n",
       "      <td>108.0</td>\n",
       "      <td>1.0</td>\n",
       "      <td>1.5</td>\n",
       "      <td>1</td>\n",
       "      <td>0</td>\n",
       "      <td>...</td>\n",
       "      <td>0</td>\n",
       "      <td>0</td>\n",
       "      <td>0</td>\n",
       "      <td>1</td>\n",
       "      <td>0</td>\n",
       "      <td>1</td>\n",
       "      <td>0</td>\n",
       "      <td>1</td>\n",
       "      <td>0</td>\n",
       "      <td>0</td>\n",
       "    </tr>\n",
       "    <tr>\n",
       "      <th>2</th>\n",
       "      <td>67.0</td>\n",
       "      <td>1.0</td>\n",
       "      <td>120.0</td>\n",
       "      <td>229.0</td>\n",
       "      <td>0.0</td>\n",
       "      <td>129.0</td>\n",
       "      <td>1.0</td>\n",
       "      <td>2.6</td>\n",
       "      <td>1</td>\n",
       "      <td>0</td>\n",
       "      <td>...</td>\n",
       "      <td>0</td>\n",
       "      <td>0</td>\n",
       "      <td>1</td>\n",
       "      <td>0</td>\n",
       "      <td>0</td>\n",
       "      <td>1</td>\n",
       "      <td>0</td>\n",
       "      <td>0</td>\n",
       "      <td>0</td>\n",
       "      <td>1</td>\n",
       "    </tr>\n",
       "    <tr>\n",
       "      <th>3</th>\n",
       "      <td>37.0</td>\n",
       "      <td>1.0</td>\n",
       "      <td>130.0</td>\n",
       "      <td>250.0</td>\n",
       "      <td>0.0</td>\n",
       "      <td>187.0</td>\n",
       "      <td>0.0</td>\n",
       "      <td>3.5</td>\n",
       "      <td>0</td>\n",
       "      <td>0</td>\n",
       "      <td>...</td>\n",
       "      <td>1</td>\n",
       "      <td>0</td>\n",
       "      <td>0</td>\n",
       "      <td>0</td>\n",
       "      <td>0</td>\n",
       "      <td>0</td>\n",
       "      <td>1</td>\n",
       "      <td>1</td>\n",
       "      <td>0</td>\n",
       "      <td>0</td>\n",
       "    </tr>\n",
       "    <tr>\n",
       "      <th>4</th>\n",
       "      <td>41.0</td>\n",
       "      <td>0.0</td>\n",
       "      <td>130.0</td>\n",
       "      <td>204.0</td>\n",
       "      <td>0.0</td>\n",
       "      <td>172.0</td>\n",
       "      <td>0.0</td>\n",
       "      <td>1.4</td>\n",
       "      <td>0</td>\n",
       "      <td>0</td>\n",
       "      <td>...</td>\n",
       "      <td>1</td>\n",
       "      <td>0</td>\n",
       "      <td>0</td>\n",
       "      <td>0</td>\n",
       "      <td>1</td>\n",
       "      <td>0</td>\n",
       "      <td>0</td>\n",
       "      <td>1</td>\n",
       "      <td>0</td>\n",
       "      <td>0</td>\n",
       "    </tr>\n",
       "  </tbody>\n",
       "</table>\n",
       "<p>5 rows × 26 columns</p>\n",
       "</div>"
      ],
      "text/plain": [
       "    age  sex  rest_bp   chol  bld_gluc  strs_max_hr  ex_ang  ecg_st_d_exer  \\\n",
       "0  63.0  1.0    145.0  233.0       1.0        150.0     0.0            2.3   \n",
       "1  67.0  1.0    160.0  286.0       0.0        108.0     1.0            1.5   \n",
       "2  67.0  1.0    120.0  229.0       0.0        129.0     1.0            2.6   \n",
       "3  37.0  1.0    130.0  250.0       0.0        187.0     0.0            3.5   \n",
       "4  41.0  0.0    130.0  204.0       0.0        172.0     0.0            1.4   \n",
       "\n",
       "   diagnosis  chest_pain_1.0      ...        cor_a_0.0  cor_a_1.0  cor_a_2.0  \\\n",
       "0          0               1      ...                1          0          0   \n",
       "1          1               0      ...                0          0          0   \n",
       "2          1               0      ...                0          0          1   \n",
       "3          0               0      ...                1          0          0   \n",
       "4          0               0      ...                1          0          0   \n",
       "\n",
       "   cor_a_3.0  ecg_st_slope_1.0  ecg_st_slope_2.0  ecg_st_slope_3.0  \\\n",
       "0          0                 0                 0                 1   \n",
       "1          1                 0                 1                 0   \n",
       "2          0                 0                 1                 0   \n",
       "3          0                 0                 0                 1   \n",
       "4          0                 1                 0                 0   \n",
       "\n",
       "   strs_test_3.0  strs_test_6.0  strs_test_7.0  \n",
       "0              0              1              0  \n",
       "1              1              0              0  \n",
       "2              0              0              1  \n",
       "3              1              0              0  \n",
       "4              1              0              0  \n",
       "\n",
       "[5 rows x 26 columns]"
      ]
     },
     "execution_count": 6,
     "metadata": {},
     "output_type": "execute_result"
    }
   ],
   "source": [
    "heart_df.head()"
   ]
  },
  {
   "cell_type": "code",
   "execution_count": 7,
   "metadata": {},
   "outputs": [
    {
     "name": "stdout",
     "output_type": "stream",
     "text": [
      "Observations: 297\n",
      "Features: 25, with 1 Response Variable\n"
     ]
    }
   ],
   "source": [
    "# After-Wrangled Data\n",
    "print(\"Observations: {}\".format(heart_df.shape[0]))\n",
    "print(\"Features: {}, with {} Response Variable\".format(heart_df.shape[1]-1, 1))"
   ]
  },
  {
   "cell_type": "code",
   "execution_count": 8,
   "metadata": {},
   "outputs": [],
   "source": [
    "# Get into matrix states for next phase\n",
    "\n",
    "X = np.array(heart_df.drop([\"diagnosis\"], axis = 1))\n",
    "y = np.array(heart_df.diagnosis)\n"
   ]
  },
  {
   "cell_type": "code",
   "execution_count": 9,
   "metadata": {},
   "outputs": [],
   "source": [
    "# Additionally, I want to scale the continuous variables to be between 0 and 1, so that they don't overpower\n",
    "# the categorical variables\n",
    "\n",
    "scale_0_1 = MinMaxScaler((0,1))\n",
    "\n",
    "X = scale_0_1.fit_transform(X)"
   ]
  },
  {
   "cell_type": "code",
   "execution_count": 10,
   "metadata": {},
   "outputs": [],
   "source": [
    "X_train, X_test, y_train, y_test = train_test_split(X, y, train_size = 0.80, random_state = 123)"
   ]
  },
  {
   "cell_type": "markdown",
   "metadata": {},
   "source": [
    "# Exploratory Data Analysis "
   ]
  },
  {
   "cell_type": "markdown",
   "metadata": {},
   "source": [
    "**Figure**"
   ]
  },
  {
   "cell_type": "code",
   "execution_count": 11,
   "metadata": {
    "scrolled": true
   },
   "outputs": [
    {
     "data": {
      "text/plain": [
       "<matplotlib.text.Text at 0x11e3fe1d0>"
      ]
     },
     "execution_count": 11,
     "metadata": {},
     "output_type": "execute_result"
    },
    {
     "data": {
      "image/png": "[encoded data removed]",
      "text/plain": [
       "<matplotlib.figure.Figure at 0x11adc28d0>"
      ]
     },
     "metadata": {},
     "output_type": "display_data"
    }
   ],
   "source": [
    "isomap = Isomap(n_components=2)\n",
    "Z_isomap = isomap.fit_transform(X)\n",
    "Z_df = pd.DataFrame(Z_isomap)\n",
    "Z_df.columns = [\"Isomap 1\", \"Isomap 2\"]\n",
    "Z_df[\"Response\"] = y\n",
    "\n",
    "sns.stripplot(x = \"Isomap 1\", y = \"Isomap 2\", hue = \"Response\", data = Z_df)\n",
    "plt.title(\"Exploring Clustering based on Isomap\")"
   ]
  },
  {
   "cell_type": "markdown",
   "metadata": {},
   "source": [
    "Based on this Isomap vis there does appear to be significant differences between the negative and positive responses, which is encouraging that a model will be able to separate the two. "
   ]
  },
  {
   "cell_type": "markdown",
   "metadata": {},
   "source": [
    "**Table**"
   ]
  },
  {
   "cell_type": "code",
   "execution_count": 12,
   "metadata": {},
   "outputs": [],
   "source": [
    "# Subset dataframes into those that resulted in >50% occlusion of coronary arteries on angiography and those that didn't\n",
    "heart_df_positive = heart_df.loc[heart_df[\"diagnosis\"] == 1,:].drop([\"diagnosis\"], axis = 1)\n",
    "heart_df_negative = heart_df.loc[heart_df[\"diagnosis\"] == 0,:].drop([\"diagnosis\"], axis = 1)\n",
    "\n",
    "# Get summary statistics for all the features in each dataframe\n",
    "heart_pos_describe = heart_df_positive.describe().loc[[\"mean\", \"min\",\"max\", \"50%\"],:]\n",
    "heart_neg_describe = heart_df_negative.describe().loc[[\"mean\", \"min\",\"max\", \"50%\"],:]"
   ]
  },
  {
   "cell_type": "code",
   "execution_count": 13,
   "metadata": {
    "scrolled": true
   },
   "outputs": [
    {
     "data": {
      "text/html": [
       "<div>\n",
       "<style>\n",
       "    .dataframe thead tr:only-child th {\n",
       "        text-align: right;\n",
       "    }\n",
       "\n",
       "    .dataframe thead th {\n",
       "        text-align: left;\n",
       "    }\n",
       "\n",
       "    .dataframe tbody tr th {\n",
       "        vertical-align: top;\n",
       "    }\n",
       "</style>\n",
       "<table border=\"1\" class=\"dataframe\">\n",
       "  <thead>\n",
       "    <tr style=\"text-align: right;\">\n",
       "      <th></th>\n",
       "      <th>mean</th>\n",
       "      <th>min</th>\n",
       "      <th>max</th>\n",
       "      <th>50%</th>\n",
       "    </tr>\n",
       "  </thead>\n",
       "  <tbody>\n",
       "    <tr>\n",
       "      <th>age</th>\n",
       "      <td>4.115374</td>\n",
       "      <td>6.0</td>\n",
       "      <td>1.0</td>\n",
       "      <td>6.0</td>\n",
       "    </tr>\n",
       "    <tr>\n",
       "      <th>sex</th>\n",
       "      <td>0.261268</td>\n",
       "      <td>0.0</td>\n",
       "      <td>0.0</td>\n",
       "      <td>0.0</td>\n",
       "    </tr>\n",
       "    <tr>\n",
       "      <th>rest_bp</th>\n",
       "      <td>5.460036</td>\n",
       "      <td>6.0</td>\n",
       "      <td>20.0</td>\n",
       "      <td>0.0</td>\n",
       "    </tr>\n",
       "    <tr>\n",
       "      <th>chol</th>\n",
       "      <td>8.360265</td>\n",
       "      <td>5.0</td>\n",
       "      <td>-155.0</td>\n",
       "      <td>17.5</td>\n",
       "    </tr>\n",
       "    <tr>\n",
       "      <th>bld_gluc</th>\n",
       "      <td>0.002235</td>\n",
       "      <td>0.0</td>\n",
       "      <td>0.0</td>\n",
       "      <td>0.0</td>\n",
       "    </tr>\n",
       "    <tr>\n",
       "      <th>strs_max_hr</th>\n",
       "      <td>-19.471761</td>\n",
       "      <td>-25.0</td>\n",
       "      <td>-7.0</td>\n",
       "      <td>-19.0</td>\n",
       "    </tr>\n",
       "    <tr>\n",
       "      <th>ex_ang</th>\n",
       "      <td>0.396396</td>\n",
       "      <td>0.0</td>\n",
       "      <td>0.0</td>\n",
       "      <td>1.0</td>\n",
       "    </tr>\n",
       "    <tr>\n",
       "      <th>ecg_st_d_exer</th>\n",
       "      <td>0.990301</td>\n",
       "      <td>0.0</td>\n",
       "      <td>2.0</td>\n",
       "      <td>1.2</td>\n",
       "    </tr>\n",
       "    <tr>\n",
       "      <th>chest_pain_1.0</th>\n",
       "      <td>-0.048905</td>\n",
       "      <td>0.0</td>\n",
       "      <td>0.0</td>\n",
       "      <td>0.0</td>\n",
       "    </tr>\n",
       "    <tr>\n",
       "      <th>chest_pain_2.0</th>\n",
       "      <td>-0.184307</td>\n",
       "      <td>0.0</td>\n",
       "      <td>0.0</td>\n",
       "      <td>0.0</td>\n",
       "    </tr>\n",
       "    <tr>\n",
       "      <th>chest_pain_3.0</th>\n",
       "      <td>-0.274863</td>\n",
       "      <td>0.0</td>\n",
       "      <td>0.0</td>\n",
       "      <td>0.0</td>\n",
       "    </tr>\n",
       "    <tr>\n",
       "      <th>chest_pain_4.0</th>\n",
       "      <td>0.508075</td>\n",
       "      <td>0.0</td>\n",
       "      <td>0.0</td>\n",
       "      <td>1.0</td>\n",
       "    </tr>\n",
       "    <tr>\n",
       "      <th>ecg_st_e_0.0</th>\n",
       "      <td>-0.173540</td>\n",
       "      <td>0.0</td>\n",
       "      <td>0.0</td>\n",
       "      <td>-1.0</td>\n",
       "    </tr>\n",
       "    <tr>\n",
       "      <th>ecg_st_e_1.0</th>\n",
       "      <td>0.015648</td>\n",
       "      <td>0.0</td>\n",
       "      <td>0.0</td>\n",
       "      <td>0.0</td>\n",
       "    </tr>\n",
       "    <tr>\n",
       "      <th>ecg_st_e_2.0</th>\n",
       "      <td>0.157892</td>\n",
       "      <td>0.0</td>\n",
       "      <td>0.0</td>\n",
       "      <td>1.0</td>\n",
       "    </tr>\n",
       "    <tr>\n",
       "      <th>cor_a_0.0</th>\n",
       "      <td>-0.477783</td>\n",
       "      <td>0.0</td>\n",
       "      <td>0.0</td>\n",
       "      <td>-1.0</td>\n",
       "    </tr>\n",
       "    <tr>\n",
       "      <th>cor_a_1.0</th>\n",
       "      <td>0.189918</td>\n",
       "      <td>0.0</td>\n",
       "      <td>0.0</td>\n",
       "      <td>0.0</td>\n",
       "    </tr>\n",
       "    <tr>\n",
       "      <th>cor_a_2.0</th>\n",
       "      <td>0.182527</td>\n",
       "      <td>0.0</td>\n",
       "      <td>0.0</td>\n",
       "      <td>0.0</td>\n",
       "    </tr>\n",
       "    <tr>\n",
       "      <th>cor_a_3.0</th>\n",
       "      <td>0.105338</td>\n",
       "      <td>0.0</td>\n",
       "      <td>0.0</td>\n",
       "      <td>0.0</td>\n",
       "    </tr>\n",
       "    <tr>\n",
       "      <th>ecg_st_slope_1.0</th>\n",
       "      <td>-0.380976</td>\n",
       "      <td>0.0</td>\n",
       "      <td>0.0</td>\n",
       "      <td>-1.0</td>\n",
       "    </tr>\n",
       "    <tr>\n",
       "      <th>ecg_st_slope_2.0</th>\n",
       "      <td>0.349635</td>\n",
       "      <td>0.0</td>\n",
       "      <td>0.0</td>\n",
       "      <td>1.0</td>\n",
       "    </tr>\n",
       "    <tr>\n",
       "      <th>ecg_st_slope_3.0</th>\n",
       "      <td>0.031341</td>\n",
       "      <td>0.0</td>\n",
       "      <td>0.0</td>\n",
       "      <td>0.0</td>\n",
       "    </tr>\n",
       "    <tr>\n",
       "      <th>strs_test_3.0</th>\n",
       "      <td>-0.523677</td>\n",
       "      <td>0.0</td>\n",
       "      <td>0.0</td>\n",
       "      <td>-1.0</td>\n",
       "    </tr>\n",
       "    <tr>\n",
       "      <th>strs_test_6.0</th>\n",
       "      <td>0.050091</td>\n",
       "      <td>0.0</td>\n",
       "      <td>0.0</td>\n",
       "      <td>0.0</td>\n",
       "    </tr>\n",
       "    <tr>\n",
       "      <th>strs_test_7.0</th>\n",
       "      <td>0.473586</td>\n",
       "      <td>0.0</td>\n",
       "      <td>0.0</td>\n",
       "      <td>1.0</td>\n",
       "    </tr>\n",
       "  </tbody>\n",
       "</table>\n",
       "</div>"
      ],
      "text/plain": [
       "                       mean   min    max   50%\n",
       "age                4.115374   6.0    1.0   6.0\n",
       "sex                0.261268   0.0    0.0   0.0\n",
       "rest_bp            5.460036   6.0   20.0   0.0\n",
       "chol               8.360265   5.0 -155.0  17.5\n",
       "bld_gluc           0.002235   0.0    0.0   0.0\n",
       "strs_max_hr      -19.471761 -25.0   -7.0 -19.0\n",
       "ex_ang             0.396396   0.0    0.0   1.0\n",
       "ecg_st_d_exer      0.990301   0.0    2.0   1.2\n",
       "chest_pain_1.0    -0.048905   0.0    0.0   0.0\n",
       "chest_pain_2.0    -0.184307   0.0    0.0   0.0\n",
       "chest_pain_3.0    -0.274863   0.0    0.0   0.0\n",
       "chest_pain_4.0     0.508075   0.0    0.0   1.0\n",
       "ecg_st_e_0.0      -0.173540   0.0    0.0  -1.0\n",
       "ecg_st_e_1.0       0.015648   0.0    0.0   0.0\n",
       "ecg_st_e_2.0       0.157892   0.0    0.0   1.0\n",
       "cor_a_0.0         -0.477783   0.0    0.0  -1.0\n",
       "cor_a_1.0          0.189918   0.0    0.0   0.0\n",
       "cor_a_2.0          0.182527   0.0    0.0   0.0\n",
       "cor_a_3.0          0.105338   0.0    0.0   0.0\n",
       "ecg_st_slope_1.0  -0.380976   0.0    0.0  -1.0\n",
       "ecg_st_slope_2.0   0.349635   0.0    0.0   1.0\n",
       "ecg_st_slope_3.0   0.031341   0.0    0.0   0.0\n",
       "strs_test_3.0     -0.523677   0.0    0.0  -1.0\n",
       "strs_test_6.0      0.050091   0.0    0.0   0.0\n",
       "strs_test_7.0      0.473586   0.0    0.0   1.0"
      ]
     },
     "execution_count": 13,
     "metadata": {},
     "output_type": "execute_result"
    }
   ],
   "source": [
    "# Return the Difference between each data frame summary statistics \n",
    "## Where positive numbers means more in the with coronary's blocked category (positive)\n",
    "heart_diff = (heart_pos_describe - heart_neg_describe).T\n",
    "heart_diff"
   ]
  },
  {
   "cell_type": "markdown",
   "metadata": {},
   "source": [
    "**Table Discussion:**  \n",
    "Here I've kept together the continuous and the categorical features. Since all the categorical features are dummy variables, we can take a positive number to mean this feature is present more often in among the coronary disease 'positive' than the 'negative' (as determined by angiography).  \n",
    "\n",
    "Age, Sex, Resting Blood Pressure, and Cholesterol are all continuous variables that respond as I would expect - those with coronary artery (CA) disease will have higher for all of them because they are heart disease risk factors. As well, you would expect those without heart disease to be able to hit a higher max stress test (although this is a bit more variable. \n",
    "\n",
    "As for the categorical variables, to take a few examples it makes sense that `ex_ang` (exercise induced angina), Positive Stress test findings (`strs_test_6.0`, `strs_test_7.0`) and rest ECG ST segment findings (`ecg_st_slope_1.0` corresponding to ST elevation and `ecg_st_slope_2.0`) would be positive because they are more likely in patients with CA disease. Likewise Normal rest ECG (`ecg_st_slope_0.0`) and Normal Stress test (`ecg_test_3.0`) are both negative as I'd expect.  \n",
    "\n",
    "Some surprising relationships: even though every medical student knows that ST elevation means 'badness', there is only a very small difference between positive and negative CA disease for `ecg_st_e_1.0` of 0.015648 although I would have expected much higher - perhaps there are a lot of false positives among the non CA disease group. \n",
    "\n",
    "I also found it surprising that typical chest pain `chest_pain_1.0` (what you think of when you hear of someone having a heart attack) was actually more likely among those without CA disease, and asymptomatic `chest_pain_4.0` was most associated with CA disease. My hypothesis for this is that this dataset is *not high acuity*. The people who present to the emergency with a heart attack wouldn't have gotten the stress test like everyone in the above dataset has gotten. Therefore we should be thinking about this dataset as being the subpopulation of people with heart disease that are stable enough to get outpatient stress testing - this subpopulation may very well have more asymptomatic presentations.  "
   ]
  },
  {
   "cell_type": "markdown",
   "metadata": {},
   "source": [
    "# Feature Selection"
   ]
  },
  {
   "cell_type": "code",
   "execution_count": 14,
   "metadata": {},
   "outputs": [
    {
     "name": "stdout",
     "output_type": "stream",
     "text": [
      "The Training Error is: 0.126582278481\n",
      "The Testing Error is: 0.116666666667\n"
     ]
    }
   ],
   "source": [
    "# First let's look at what plain logistic regression yields\n",
    "## Here I set the penalty to L2 and set the C arbitrarily large so that there is effectively no penalty\n",
    "log_model = LogisticRegression(penalty = \"l1\", C = 10000)\n",
    "log_model.fit(X_train, y_train)\n",
    "\n",
    "log_train = 1 - log_model.score(X_train, y_train)\n",
    "log_test = 1 - log_model.score(X_test, y_test)\n",
    "\n",
    "print(\"The Training Error is:\", log_train)\n",
    "print(\"The Testing Error is:\", log_test)"
   ]
  },
  {
   "cell_type": "markdown",
   "metadata": {},
   "source": [
    "### L1 Regularization for Feature Selection"
   ]
  },
  {
   "cell_type": "code",
   "execution_count": 15,
   "metadata": {
    "scrolled": true
   },
   "outputs": [
    {
     "data": {
      "text/plain": [
       "LogisticRegressionCV(Cs=array([ 0.05,  0.1 , ...,  9.9 ,  9.95]),\n",
       "           class_weight=None, cv=5, dual=False, fit_intercept=True,\n",
       "           intercept_scaling=1.0, max_iter=100, multi_class='ovr',\n",
       "           n_jobs=1, penalty='l1', random_state=None, refit=True,\n",
       "           scoring=None, solver='liblinear', tol=0.0001, verbose=0)"
      ]
     },
     "execution_count": 15,
     "metadata": {},
     "output_type": "execute_result"
    }
   ],
   "source": [
    "# Cross Validation for the strength of L1 Regularization parameter C\n",
    "C_s = np.arange(0.05,10,0.05)\n",
    "lasso = LogisticRegressionCV(Cs = C_s, penalty = \"l1\", solver = \"liblinear\", cv = 5)\n",
    "lasso.fit(X_train,y_train)"
   ]
  },
  {
   "cell_type": "code",
   "execution_count": 16,
   "metadata": {},
   "outputs": [
    {
     "name": "stdout",
     "output_type": "stream",
     "text": [
      "The Training Error is: 0.160337552743\n",
      "The Testing Error is: 0.116666666667\n",
      "Using a regularization parameter of 0.1\n"
     ]
    }
   ],
   "source": [
    "print(\"The Training Error is:\", 1 - lasso.score(X_train,y_train))\n",
    "print(\"The Testing Error is:\", 1 - lasso.score(X_test, y_test))\n",
    "print(\"Using a regularization parameter of {}\".format(lasso.C_[0]))"
   ]
  },
  {
   "cell_type": "code",
   "execution_count": 17,
   "metadata": {
    "scrolled": false
   },
   "outputs": [
    {
     "name": "stdout",
     "output_type": "stream",
     "text": [
      "This means L1 Regularization would remove 19 variables: \n",
      " ['age' 'sex' 'rest_bp' 'chol' 'bld_gluc' 'strs_max_hr' 'ecg_st_d_exer'\n",
      " 'chest_pain_1.0' 'chest_pain_2.0' 'chest_pain_3.0' 'ecg_st_e_0.0'\n",
      " 'ecg_st_e_1.0' 'ecg_st_e_2.0' 'cor_a_1.0' 'cor_a_2.0' 'cor_a_3.0'\n",
      " 'ecg_st_slope_2.0' 'ecg_st_slope_3.0' 'strs_test_6.0']\n",
      "\n",
      " \n",
      "\n",
      "This means only keeping 6 variables:['ex_ang' 'chest_pain_4.0' 'cor_a_0.0' 'ecg_st_slope_1.0' 'strs_test_3.0'\n",
      " 'strs_test_7.0']\n"
     ]
    }
   ],
   "source": [
    "l1_var_excluded = np.array(heart_df_positive.columns)[(lasso.coef_ == 0).flatten()]\n",
    "l1_var_included = np.array(heart_df_positive.columns)[(lasso.coef_ != 0).flatten()]\n",
    "print(\"This means L1 Regularization would remove {} variables: \\n {}\".format(len(l1_var_excluded), l1_var_excluded))\n",
    "print(\"\\n\", \"\\n\")\n",
    "print(\"This means only keeping {} variables:{}\".format(len(l1_var_included), l1_var_included))"
   ]
  },
  {
   "cell_type": "markdown",
   "metadata": {},
   "source": [
    "**Backward Selection**"
   ]
  },
  {
   "cell_type": "code",
   "execution_count": 18,
   "metadata": {},
   "outputs": [],
   "source": [
    "# Since we aren't using Cross Validation"
   ]
  },
  {
   "cell_type": "code",
   "execution_count": 19,
   "metadata": {
    "scrolled": true
   },
   "outputs": [
    {
     "data": {
      "text/plain": [
       "GridSearchCV(cv=None, error_score='raise',\n",
       "       estimator=RFE(estimator=LogisticRegression(C=10000, class_weight=None, dual=False, fit_intercept=True,\n",
       "          intercept_scaling=1, max_iter=100, multi_class='ovr', n_jobs=1,\n",
       "          penalty='l2', random_state=None, solver='liblinear', tol=0.0001,\n",
       "          verbose=0, warm_start=False),\n",
       "  n_features_to_select=None, step=1, verbose=0),\n",
       "       fit_params={}, iid=True, n_jobs=1,\n",
       "       param_grid={'n_features_to_select': array([ 6,  7,  8,  9, 10, 11, 12, 13, 14, 15, 16, 17, 18, 19, 20, 21, 22,\n",
       "       23])},\n",
       "       pre_dispatch='2*n_jobs', refit=True, return_train_score=True,\n",
       "       scoring=None, verbose=0)"
      ]
     },
     "execution_count": 19,
     "metadata": {},
     "output_type": "execute_result"
    }
   ],
   "source": [
    "n_features_left = np.arange(6,24,1)\n",
    "back_select = RFE(LogisticRegression(penalty=\"l2\", C = 10000))\n",
    "n_features_dict = {\"n_features_to_select\":n_features_left}\n",
    "\n",
    "rfe_grid = GridSearchCV(back_select, n_features_dict)\n",
    "rfe_grid.fit(X_train,y_train)"
   ]
  },
  {
   "cell_type": "code",
   "execution_count": 20,
   "metadata": {
    "scrolled": true
   },
   "outputs": [
    {
     "name": "stdout",
     "output_type": "stream",
     "text": [
      "The Training Error is: 0.126582278481\n",
      "The Testing Error is: 0.116666666667\n",
      "After Cross-Validation for number of features to remain: \n",
      " \n",
      " \n",
      "There are 7 features EXCLUDED, which include \n",
      " ['ecg_st_e_1.0' 'ecg_st_e_2.0' 'cor_a_1.0' 'ecg_st_slope_2.0'\n",
      " 'ecg_st_slope_3.0' 'strs_test_3.0' 'strs_test_6.0'] \n",
      " \n",
      "\n",
      "There are 18 features SELECTED, which include \n",
      " ['age' 'sex' 'rest_bp' 'chol' 'bld_gluc' 'strs_max_hr' 'ex_ang'\n",
      " 'ecg_st_d_exer' 'chest_pain_1.0' 'chest_pain_2.0' 'chest_pain_3.0'\n",
      " 'chest_pain_4.0' 'ecg_st_e_0.0' 'cor_a_0.0' 'cor_a_2.0' 'cor_a_3.0'\n",
      " 'ecg_st_slope_1.0' 'strs_test_7.0']\n"
     ]
    }
   ],
   "source": [
    "print(\"The Training Error is:\", 1 - rfe_grid.score(X_train,y_train))\n",
    "print(\"The Testing Error is:\", 1 - rfe_grid.score(X_test, y_test))\n",
    "\n",
    "rfe_var_excluded = np.array(heart_df_positive.columns)[rfe_grid.best_estimator_.support_ != True]\n",
    "\n",
    "rfe_var_included = np.array(heart_df_positive.columns)[rfe_grid.best_estimator_.support_]\n",
    "\n",
    "\n",
    "print(\"After Cross-Validation for number of features to remain: \\n \\n \")\n",
    "\n",
    "print(\"There are {} features EXCLUDED, which include \\n {} \\n \\n\".format(len(rfe_var_excluded), rfe_var_excluded))\n",
    "\n",
    "print(\"There are {} features SELECTED, which include \\n {}\".format(len(rfe_var_included), rfe_var_included))"
   ]
  },
  {
   "cell_type": "code",
   "execution_count": 21,
   "metadata": {
    "scrolled": false
   },
   "outputs": [
    {
     "name": "stdout",
     "output_type": "stream",
     "text": [
      "There were 6 Features Excluded by BOTH methods: \n",
      " ['cor_a_1.0' 'ecg_st_e_1.0' 'ecg_st_e_2.0' 'ecg_st_slope_2.0'\n",
      " 'ecg_st_slope_3.0' 'strs_test_6.0']\n",
      "\n",
      "\n",
      "There were 5 Features Included by BOTH methods: \n",
      " ['chest_pain_4.0' 'cor_a_0.0' 'ecg_st_slope_1.0' 'ex_ang' 'strs_test_7.0']\n",
      "\n",
      "\n"
     ]
    }
   ],
   "source": [
    "# Let's combine the results from L1 Regularization and RFE\n",
    "intersect_excluded = np.intersect1d(rfe_var_excluded, l1_var_excluded)\n",
    "intersect_included = np.intersect1d(rfe_var_included, l1_var_included)\n",
    "\n",
    "print(\"There were {} Features Excluded by BOTH methods: \\n {}\\n\\n\".format(len(intersect_excluded), intersect_excluded))\n",
    "\n",
    "print(\"There were {} Features Included by BOTH methods: \\n {}\\n\\n\".format(len(intersect_included), intersect_included))\n"
   ]
  },
  {
   "cell_type": "code",
   "execution_count": 24,
   "metadata": {},
   "outputs": [],
   "source": [
    "l1_exclude_positions= np.nonzero(lasso.coef_ == 0)[1]\n",
    "rfe_exclude_positions = np.nonzero(rfe_grid.best_estimator_.support_ != True)[0]\n",
    "\n",
    "new_exclude = np.intersect1d(l1_exclude_positions, rfe_exclude_positions)"
   ]
  },
  {
   "cell_type": "code",
   "execution_count": 25,
   "metadata": {},
   "outputs": [],
   "source": [
    "features_to_include = np.setdiff1d(np.arange(0, len(heart_df_positive.columns)), new_exclude)"
   ]
  },
  {
   "cell_type": "code",
   "execution_count": 26,
   "metadata": {},
   "outputs": [],
   "source": [
    "X = X[:, features_to_include]\n",
    "X_train, X_test, y_train, y_test = train_test_split(X, y, train_size = 0.80, random_state = 123)"
   ]
  },
  {
   "cell_type": "markdown",
   "metadata": {},
   "source": [
    "| Feature Selection Method | Training Error | Testing Error | Features Excluded | Features Included |\n",
    "| ---------------- | ------ | ------- | ------- | -------- |\n",
    "| Plain Logistic Regression | 0.12658 | 0.11667 | 0 | 25 |\n",
    "| L1 Regularization | 0.16033 | 0.11667 | 19 | 6 |\n",
    "| Recursive Feature Elimination | 0.12658 | 0.11667 | 7 | 18 |\n",
    "| Intersection of Both Methods | -- | -- | 6 | 5 |\n"
   ]
  },
  {
   "cell_type": "markdown",
   "metadata": {},
   "source": [
    "**Discussion of Feature Selection**  \n",
    "\n",
    "Firstly, the dataset that I'm using contains only 14 features of a greater 76 features. The problem is that the dataset that I've chosen has already gone through feature selection - so this makes feature selection for me much more challenging to see actual improvements with feature reduction.  \n",
    "\n",
    "Even with L1 regularization (after cross validation to select the optimal regularization parameter) the resulting test error does not actually improve compared to a model with the full feature set - but that being said it is able to achieve the same test error on logistic regression as the full feature model. Likewise Recursive Feature Elimination (after cross validation to select how many features should be elimiated) did not improve or worsen overall test error. \n",
    "\n",
    "Therefore, I chose to look at the feature excluded in *both* models and decided to remove these features when I select the model.\n",
    "\n",
    "These 6 features are:   \n",
    "'cor_a_1.0' - Having exactly 1 Coronary artery vessel coloured by fluoroscopy.  \n",
    "'ecg_st_e_1.0' - ST Elevation on ECG indicative of coronary artery involvement  \n",
    "'ecg_st_e_2.0' - ST Segment chagnes indicating Left Ventricular Hypertrophy  \n",
    "'ecg_st_slope_2.0' - ST Slope downsloping  \n",
    "'ecg_st_slope_3.0' - ST Slope flat  \n",
    "'strs_test_6.0' - ST Fixed defect  \n",
    "\n",
    "Medically speaking, some of this is surprising. Particularly the 'ecg_st_e_1.0' ST elevation finding which is a well known diagnostic criteria.  \n",
    "\n",
    "This is likely because this specific data represents patients who were able to have stress tests (i.e. they're not sick enough that they can't run on a treadmill). This means these weren't the type of patients who are coming into the emergency department with acute chest pain. This data more captures patients seen with longer term chest pain seen as outpatients. In this case it may be more reasonable to remove some of these. "
   ]
  },
  {
   "cell_type": "markdown",
   "metadata": {},
   "source": [
    "# Model Selection"
   ]
  },
  {
   "cell_type": "markdown",
   "metadata": {},
   "source": [
    "### Random Forests"
   ]
  },
  {
   "cell_type": "code",
   "execution_count": 27,
   "metadata": {
    "scrolled": true
   },
   "outputs": [
    {
     "data": {
      "text/plain": [
       "GridSearchCV(cv=None, error_score='raise',\n",
       "       estimator=RandomForestClassifier(bootstrap=True, class_weight=None, criterion='gini',\n",
       "            max_depth=None, max_features='auto', max_leaf_nodes=None,\n",
       "            min_impurity_split=1e-07, min_samples_leaf=1,\n",
       "            min_samples_split=2, min_weight_fraction_leaf=0.0,\n",
       "            n_estimators=10, n_jobs=1, oob_score=False, random_state=None,\n",
       "            verbose=0, warm_start=False),\n",
       "       fit_params={}, iid=True, n_jobs=1,\n",
       "       param_grid={'n_estimators': array([ 3,  5,  7,  9, 11, 13, 15, 17, 19, 21, 23, 25, 27, 29, 31, 33, 35,\n",
       "       37, 39]), 'max_depth': array([1, 3, 5, 7, 9])},\n",
       "       pre_dispatch='2*n_jobs', refit=True, return_train_score=True,\n",
       "       scoring=None, verbose=0)"
      ]
     },
     "execution_count": 27,
     "metadata": {},
     "output_type": "execute_result"
    }
   ],
   "source": [
    "rand_forest = RandomForestClassifier()\n",
    "\n",
    "n_estimator = np.arange(3,40,2)\n",
    "max_depth = np.arange(1,10,2)\n",
    "\n",
    "rand_param = {\"n_estimators\":n_estimator, \n",
    "             \"max_depth\":max_depth}\n",
    "\n",
    "rand_grid = GridSearchCV(rand_forest, rand_param)\n",
    "rand_grid.fit(X_train, y_train)"
   ]
  },
  {
   "cell_type": "code",
   "execution_count": 28,
   "metadata": {},
   "outputs": [
    {
     "data": {
      "text/plain": [
       "{'max_depth': 1, 'n_estimators': 19}"
      ]
     },
     "execution_count": 28,
     "metadata": {},
     "output_type": "execute_result"
    }
   ],
   "source": [
    "rand_grid.best_params_"
   ]
  },
  {
   "cell_type": "code",
   "execution_count": 29,
   "metadata": {},
   "outputs": [
    {
     "name": "stdout",
     "output_type": "stream",
     "text": [
      "The Training Error is: 0.172995780591\n",
      "The Testing Error is: 0.116666666667\n",
      "Using a decision stumps of 1 and 19 trees\n"
     ]
    }
   ],
   "source": [
    "print(\"The Training Error is:\", 1 - rand_grid.score(X_train,y_train))\n",
    "print(\"The Testing Error is:\", 1 - rand_grid.score(X_test, y_test))\n",
    "print(\"Using a decision stumps of {} and {} trees\".format(rand_grid.best_params_[\"max_depth\"], rand_grid.best_params_[\"n_estimators\"]))"
   ]
  },
  {
   "cell_type": "markdown",
   "metadata": {},
   "source": [
    "### KNN"
   ]
  },
  {
   "cell_type": "code",
   "execution_count": 30,
   "metadata": {},
   "outputs": [
    {
     "data": {
      "text/plain": [
       "GridSearchCV(cv=None, error_score='raise',\n",
       "       estimator=KNeighborsClassifier(algorithm='auto', leaf_size=30, metric='minkowski',\n",
       "           metric_params=None, n_jobs=1, n_neighbors=5, p=2,\n",
       "           weights='uniform'),\n",
       "       fit_params={}, iid=True, n_jobs=1,\n",
       "       param_grid={'n_neighbors': array([ 1,  2,  3,  4,  5,  6,  7,  8,  9, 10, 11, 12, 13, 14, 15, 16, 17,\n",
       "       18, 19])},\n",
       "       pre_dispatch='2*n_jobs', refit=True, return_train_score=True,\n",
       "       scoring=None, verbose=0)"
      ]
     },
     "execution_count": 30,
     "metadata": {},
     "output_type": "execute_result"
    }
   ],
   "source": [
    "knn = KNeighborsClassifier()\n",
    "\n",
    "n_neighbors = np.arange(1,20,1)\n",
    "\n",
    "knn_param = {\"n_neighbors\":n_neighbors}\n",
    "\n",
    "knn_grid = GridSearchCV(knn, knn_param)\n",
    "knn_grid.fit(X_train, y_train)"
   ]
  },
  {
   "cell_type": "code",
   "execution_count": 31,
   "metadata": {},
   "outputs": [
    {
     "name": "stdout",
     "output_type": "stream",
     "text": [
      "The Training Error is: 0.147679324895\n",
      "The Testing Error is: 0.15\n",
      "Using 17 Nearest Neighbors\n"
     ]
    }
   ],
   "source": [
    "print(\"The Training Error is:\", 1 - knn_grid.score(X_train,y_train))\n",
    "print(\"The Testing Error is:\", 1 - knn_grid.score(X_test, y_test))\n",
    "print(\"Using {} Nearest Neighbors\".format(knn_grid.best_params_[\"n_neighbors\"]))"
   ]
  },
  {
   "cell_type": "markdown",
   "metadata": {},
   "source": [
    "### SVM"
   ]
  },
  {
   "cell_type": "code",
   "execution_count": 32,
   "metadata": {},
   "outputs": [],
   "source": [
    "gammas = [10**-(float(x)) for x in range(6,-1,-1)]\n",
    "C = gammas"
   ]
  },
  {
   "cell_type": "code",
   "execution_count": 33,
   "metadata": {
    "scrolled": true
   },
   "outputs": [
    {
     "data": {
      "text/plain": [
       "GridSearchCV(cv=None, error_score='raise',\n",
       "       estimator=SVC(C=1.0, cache_size=200, class_weight=None, coef0=0.0,\n",
       "  decision_function_shape=None, degree=3, gamma='auto', kernel='rbf',\n",
       "  max_iter=-1, probability=False, random_state=None, shrinking=True,\n",
       "  tol=0.001, verbose=False),\n",
       "       fit_params={}, iid=True, n_jobs=1,\n",
       "       param_grid={'gamma': [1e-06, 1e-05, 0.0001, 0.001, 0.01, 0.1, 1.0], 'C': [1e-06, 1e-05, 0.0001, 0.001, 0.01, 0.1, 1.0]},\n",
       "       pre_dispatch='2*n_jobs', refit=True, return_train_score=True,\n",
       "       scoring=None, verbose=0)"
      ]
     },
     "execution_count": 33,
     "metadata": {},
     "output_type": "execute_result"
    }
   ],
   "source": [
    "svm = SVC()\n",
    "svm_param = {\"gamma\": gammas, \n",
    "            \"C\": C}\n",
    "\n",
    "svm_grid = GridSearchCV(svm, svm_param)\n",
    "svm_grid.fit(X_train,y_train)"
   ]
  },
  {
   "cell_type": "code",
   "execution_count": 34,
   "metadata": {},
   "outputs": [
    {
     "data": {
      "text/plain": [
       "{'C': 1.0, 'gamma': 0.01}"
      ]
     },
     "execution_count": 34,
     "metadata": {},
     "output_type": "execute_result"
    }
   ],
   "source": [
    "svm_grid.best_params_"
   ]
  },
  {
   "cell_type": "code",
   "execution_count": 35,
   "metadata": {},
   "outputs": [
    {
     "name": "stdout",
     "output_type": "stream",
     "text": [
      "The Training Error is: 0.147679324895\n",
      "The Testing Error is: 0.166666666667\n",
      "Using C: 1.0, gamma: 0.01\n"
     ]
    }
   ],
   "source": [
    "1 - svm_grid.score(X_test,y_test)\n",
    "print(\"The Training Error is:\", 1 - svm_grid.score(X_train,y_train))\n",
    "print(\"The Testing Error is:\", 1 - svm_grid.score(X_test,y_test))\n",
    "print(\"Using C: {}, gamma: {}\".format(svm_grid.best_params_[\"C\"], svm_grid.best_params_[\"gamma\"]))"
   ]
  },
  {
   "cell_type": "code",
   "execution_count": 40,
   "metadata": {},
   "outputs": [
    {
     "name": "stdout",
     "output_type": "stream",
     "text": [
      "The Training Error is: 0.160337552743\n",
      "The Testing Error is: 0.116666666667\n",
      "Using C: 0.1\n"
     ]
    }
   ],
   "source": [
    "log_reg = LogisticRegression(penalty = \"l1\", C = 0.1)\n",
    "log_reg.fit(X_train,y_train)\n",
    "\n",
    "print(\"The Training Error is:\", 1 - log_reg.score(X_train,y_train))\n",
    "print(\"The Testing Error is:\", 1 - log_reg.score(X_test,y_test))\n",
    "print(\"Using C: {}\".format(0.1))"
   ]
  },
  {
   "cell_type": "code",
   "execution_count": 47,
   "metadata": {},
   "outputs": [
    {
     "name": "stdout",
     "output_type": "stream",
     "text": [
      "There were 6 Features that were Non-Zero: \n",
      " [ 6 11 13 16 17 18] \n",
      "\n"
     ]
    }
   ],
   "source": [
    "print(\"There were {} Features that were Non-Zero: \\n {} \\n\".format(len(np.nonzero(log_reg.coef_)[1]), np.nonzero(log_reg.coef_)[1]))"
   ]
  },
  {
   "cell_type": "markdown",
   "metadata": {},
   "source": [
    "| | Training Error | Testing Error |\n",
    "| ----- | ------------ | ------------- |\n",
    "| Random Forest | 0.17300 | 0.15 |\n",
    "| KNN | 0.14768 | 0.15 |\n",
    "| SVM | 0.14768 | 0.16667 | \n",
    "| Logistic Regression | 0.16033 | 0.11666 |"
   ]
  },
  {
   "cell_type": "markdown",
   "metadata": {},
   "source": [
    "## Discussion"
   ]
  },
  {
   "cell_type": "markdown",
   "metadata": {},
   "source": [
    "Why did this happen? In the feature selection step, we couldn't improve the basic logistic regression model even when we removed features, and then in the model selection step, all our models were actually *worse* than the CV L1 regularized logistic regression model. What gives?  \n",
    "\n",
    "I think I learned a few lessons with this analysis. \n",
    "\n",
    "Firstly, these results are a consequence of using a dataset that has already undergone feature selection. As I mentioned above there are 14 features in this dataset out of a greater 76 original features. When I decided to reduce these features further, in every step I used cross-validation (and thus didn't report the validation error, but rather the training error of the model that was selected by cross-validation). As mentioned in the previous section, each feature selection step didn't actually improve the overall test error (and note - I kept the test set separate during cross-validation to avoid overfitting). With this in mind, it is not overly surprising that the model selection phase didn't work very well. \n",
    "\n",
    "When we did make it to model selection, the best test error we could get was with logistic regression that only kept 6 features (after L1 regularization) and returned the same test error as the *original logistic regression model with all features and without regularization*. This is because the dataset I was using had already been feature selected for logistic regression before I even began. Unfortunately, despite further subsetting features and trying out different models, I was still unable to reduce the test error that I started with. \n",
    "\n",
    "While I was feature selecting (and although I was cross-validating and not tuning hyperparameters on the test set which I know is a big no-no), I did look at the result in the context of how it performed on test data at each step. When I was feature selecting and cross-validating for L1 regularization and backward selection, both of these steps used Logistic Regression as a base estimator, and thus I feature selected in such a way as to minimize error in logistic regression. Perhaps, I should have feature selected with different estimators in my cross-validation (for instance using KNN in the backward selection) and I would have gotten features that would work better in KNN.  \n",
    "\n",
    "Additional future directions could include trying additional ensemble methods than Random Forest, such as bagging, to see if I can improve the overall model. "
   ]
  },
  {
   "cell_type": "code",
   "execution_count": null,
   "metadata": {},
   "outputs": [],
   "source": []
  }
 ],
 "metadata": {
  "kernelspec": {
   "display_name": "Python 3",
   "language": "python",
   "name": "python3"
  },
  "language_info": {
   "codemirror_mode": {
    "name": "ipython",
    "version": 3
   },
   "file_extension": ".py",
   "mimetype": "text/x-python",
   "name": "python",
   "nbconvert_exporter": "python",
   "pygments_lexer": "ipython3",
   "version": "3.6.4"
  }
 },
 "nbformat": 4,
 "nbformat_minor": 2
}
